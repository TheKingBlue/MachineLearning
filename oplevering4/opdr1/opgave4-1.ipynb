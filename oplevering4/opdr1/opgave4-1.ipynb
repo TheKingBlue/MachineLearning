{
 "cells": [
  {
   "cell_type": "markdown",
   "metadata": {},
   "source": [
    "# Woordvectoren\n",
    "\n",
    "Deze opdracht staat in het teken van *word vectors*. Zoals tijdens het theoretische deel is toegelicht, representeren we in *Natural Language Processing* (*NLP*) elk woord als een pan-dimensionale vector van getallen. Deze vector is gerelateerd aan de betekenis van het woord. Voor deze module voert het te ver om dergelijke [*embeddings*](https://en.wikipedia.org/wiki/Word_embedding) zelf uit te programmeren, dus maken we gebruik van al getrainde modellen. In het echte leven is het ook zeer ongebruikelijk om embeddings zelf te programmeren, omdat het veel tijd en energie kost en ze eenvoudig beschikbaar zijn.\n",
    "\n",
    "In deze opgave gebruiken we *word embeddings* om de hoofdstad van een land te bepalen. We maken hierbij gebruik van de cosinusgelijkheid en de euclidische afstand, die beiden in het hoorcollege zijn toegelicht."
   ]
  },
  {
   "cell_type": "markdown",
   "metadata": {},
   "source": [
    "### importeren van de data en de libraries\n",
    "\n",
    "Zoals gebruikelijk beginnen we met het imporeren van de noodzakelijke python-libraries en het laden van de dataset. Voor het gemak maken we weer gebruik van [een Pandas DataFrame](https://pandas.pydata.org/pandas-docs/stable/getting_started/dsintro.html) om dat data in op te slaan – een techniek die heel veel wordt gebruikt in machine-learning-projecten. \n"
   ]
  },
  {
   "cell_type": "code",
   "execution_count": 1,
   "metadata": {},
   "outputs": [],
   "source": [
    "# Run deze cel om de packages te laden.\n",
    "import pickle\n",
    "import numpy as np\n",
    "import pandas as pd\n",
    "import matplotlib.pyplot as plt\n",
    "\n",
    "from utils import get_vectors"
   ]
  },
  {
   "cell_type": "code",
   "execution_count": 2,
   "metadata": {},
   "outputs": [
    {
     "data": {
      "text/html": [
       "<div>\n",
       "<style scoped>\n",
       "    .dataframe tbody tr th:only-of-type {\n",
       "        vertical-align: middle;\n",
       "    }\n",
       "\n",
       "    .dataframe tbody tr th {\n",
       "        vertical-align: top;\n",
       "    }\n",
       "\n",
       "    .dataframe thead th {\n",
       "        text-align: right;\n",
       "    }\n",
       "</style>\n",
       "<table border=\"1\" class=\"dataframe\">\n",
       "  <thead>\n",
       "    <tr style=\"text-align: right;\">\n",
       "      <th></th>\n",
       "      <th>city1</th>\n",
       "      <th>country1</th>\n",
       "      <th>city2</th>\n",
       "      <th>country2</th>\n",
       "    </tr>\n",
       "  </thead>\n",
       "  <tbody>\n",
       "    <tr>\n",
       "      <th>0</th>\n",
       "      <td>Athens</td>\n",
       "      <td>Greece</td>\n",
       "      <td>Bangkok</td>\n",
       "      <td>Thailand</td>\n",
       "    </tr>\n",
       "    <tr>\n",
       "      <th>1</th>\n",
       "      <td>Athens</td>\n",
       "      <td>Greece</td>\n",
       "      <td>Beijing</td>\n",
       "      <td>China</td>\n",
       "    </tr>\n",
       "    <tr>\n",
       "      <th>2</th>\n",
       "      <td>Athens</td>\n",
       "      <td>Greece</td>\n",
       "      <td>Berlin</td>\n",
       "      <td>Germany</td>\n",
       "    </tr>\n",
       "    <tr>\n",
       "      <th>3</th>\n",
       "      <td>Athens</td>\n",
       "      <td>Greece</td>\n",
       "      <td>Bern</td>\n",
       "      <td>Switzerland</td>\n",
       "    </tr>\n",
       "    <tr>\n",
       "      <th>4</th>\n",
       "      <td>Athens</td>\n",
       "      <td>Greece</td>\n",
       "      <td>Cairo</td>\n",
       "      <td>Egypt</td>\n",
       "    </tr>\n",
       "  </tbody>\n",
       "</table>\n",
       "</div>"
      ],
      "text/plain": [
       "    city1 country1    city2     country2\n",
       "0  Athens   Greece  Bangkok     Thailand\n",
       "1  Athens   Greece  Beijing        China\n",
       "2  Athens   Greece   Berlin      Germany\n",
       "3  Athens   Greece     Bern  Switzerland\n",
       "4  Athens   Greece    Cairo        Egypt"
      ]
     },
     "execution_count": 2,
     "metadata": {},
     "output_type": "execute_result"
    }
   ],
   "source": [
    "# Run deze cel om de data te laden.\n",
    "data = pd.read_csv('data/capitals.txt', delimiter=' ')\n",
    "data.columns = ['city1', 'country1', 'city2', 'country2']\n",
    "\n",
    "# een beeld van de data\n",
    "data.head(5) "
   ]
  },
  {
   "cell_type": "markdown",
   "metadata": {},
   "source": [
    "In de cel hieronder laden we de *word-embedding* die, zoals gezegd, vanuit een getraind model komt. Voor de volledigheid: deze embedding is een subset van [een project van Google](https://code.google.com/archive/p/word2vec/). In deze embedding zitten maar 243 woorden, maar voor deze opgave is dat prima. De woorden zijn opgeslagen als een python dictionary, waarvan de *key* het woord is en de *value* een driehonderd-dimensionale vector die de betekenis representeert."
   ]
  },
  {
   "cell_type": "code",
   "execution_count": 3,
   "metadata": {},
   "outputs": [
    {
     "data": {
      "text/plain": [
       "243"
      ]
     },
     "execution_count": 3,
     "metadata": {},
     "output_type": "execute_result"
    }
   ],
   "source": [
    "word_embeddings = pickle.load(open(\"data/word_embeddings_subset.p\", \"rb\"))\n",
    "len(word_embeddings)  # 243"
   ]
  },
  {
   "cell_type": "code",
   "execution_count": 4,
   "metadata": {},
   "outputs": [
    {
     "data": {
      "text/plain": [
       "dict"
      ]
     },
     "execution_count": 4,
     "metadata": {},
     "output_type": "execute_result"
    }
   ],
   "source": [
    "type(word_embeddings)"
   ]
  },
  {
   "cell_type": "code",
   "execution_count": 5,
   "metadata": {},
   "outputs": [
    {
     "name": "stdout",
     "output_type": "stream",
     "text": [
      "grootte van de vector voor Berlijn: 300\n"
     ]
    }
   ],
   "source": [
    "print(f\"grootte van de vector voor Berlijn: {word_embeddings['Berlin'].shape[0]}\")"
   ]
  },
  {
   "cell_type": "markdown",
   "metadata": {},
   "source": [
    "## Stap 1: Voorspellen van de relaties tussen woorden.\n",
    "\n",
    "We gaan een functie maken die de gegeven *word embeddings* gebruikt om de relatie tussen woorden te voorspellen. Deze functie krijgt drie parameters: de eerste twee zijn op een bepaalde manier aan elkaar gerelateerd en de functie geeft een nieuw woord terug dat eenzelfde relatie heeft met het gegeven derde woord. Wanneer we bijvoorbeeld de functie aanroepen met `Athene`, `Griekenland` en `Bankok`, moet de functie `Thailand` teruggeven (Athene staat immers tot Griekenland als Bankok staat tot Thailand).\n",
    "\n",
    "![uitleg van rekenen met woordvectoren](imgs/vectors.jpeg)"
   ]
  },
  {
   "cell_type": "markdown",
   "metadata": {},
   "source": [
    "### 1.1 Cosinusgelijkheid\n",
    "\n",
    "Om de functie te kunnen maken, moeten we de cosinusgelijkheid van twee vectoren kunnen bepalen. Deze is hieronder gegeven:\n",
    "\n",
    "$$\\cos (\\theta)=\\frac{\\mathbf{A} \\cdot \\mathbf{B}}{\\|\\mathbf{A}\\|\\|\\mathbf{B}\\|}=\\frac{\\sum_{i=1}^{n} A_{i} B_{i}}{\\sqrt{\\sum_{i=1}^{n} A_{i}^{2}} \\sqrt{\\sum_{i=1}^{n} B_{i}^{2}}}\\tag{1}$$\n",
    "\n",
    "waarbij\n",
    "$A$ en $B$ (woord)vectoren en $A_i$, $B_i$ het i-de element van die vector zijn. \n",
    "\n",
    "* Wanneer $A$ en $B$ gelijk zijn, levert dat $cos(\\theta) = 1$ op.\n",
    "* Wanneer $A$ en $B$ exact tegengesteld zijn ($A = -B$), levert dat $cos(\\theta) = -1$ op.\n",
    "* Als $cos(\\theta) =0$, dan zijn $A$ en $B$ *orthogonaal* ($cos(90\\degree) = 0$, weten we nog?).\n",
    "* Bij waarden tussen 0 en 1 hebben $A$ en $B$ een *hoge gelijkenis* (hoger is meer gelijk aan elkaar).\n",
    "* Bij waarden tussen 0 en -1 hebben $A$ en $B$ een *lage gelijkenis* (lager is minder gelijk aan elkaar).\n",
    "\n",
    "Maak de functie `cosine_similarity` in de cel hieronder. Maak hierbij gebruik van `numpy.dot` en `numpy.linalg.norm`."
   ]
  },
  {
   "cell_type": "code",
   "execution_count": null,
   "metadata": {},
   "outputs": [],
   "source": [
    "def cosine_similarity(A, B):\n",
    "    '''\n",
    "    Input:\n",
    "        A: een woordvector als numpy array\n",
    "        B: een woordvector als numpy array\n",
    "    Output:\n",
    "        cos: numerieke waarde van de cosinusgelijkheid tussen A en B\n",
    "    '''\n",
    "    # YOUR CODE HERE (vervang None door de juiste waarden)\n",
    "    dot = np.dot(A, B)\n",
    "    norma = np.linalg.norm(A)\n",
    "    normb = np.linalg.norm(B)\n",
    "    cos = dot / (norma * normb)\n",
    "    \n",
    "    return cos"
   ]
  },
  {
   "cell_type": "code",
   "execution_count": 7,
   "metadata": {},
   "outputs": [
    {
     "name": "stdout",
     "output_type": "stream",
     "text": [
      "cosine_similarity(king, queen): 0.6510956287384033\n",
      "dit zou ongeveer 0.651 moeten zijn\n"
     ]
    }
   ],
   "source": [
    "king = word_embeddings['king']\n",
    "queen = word_embeddings['queen']\n",
    "\n",
    "print (f'cosine_similarity(king, queen): {cosine_similarity(king, queen)}')\n",
    "print ('dit zou ongeveer 0.651 moeten zijn')\n"
   ]
  },
  {
   "cell_type": "markdown",
   "metadata": {},
   "source": [
    "### 1.2 Euclidische afstand\n",
    "\n",
    "Maak nu een functie `euclidian` die de euclidische afstand tussen twee vectoren bepaalt. Maak hierbij weer gebruik van `numpy.linalg.norm`. De Euclidische afstand tussen twee vectoren is als volgt:\n",
    "\n",
    "$$ \\begin{aligned} d(\\mathbf{A}, \\mathbf{B})=d(\\mathbf{B}, \\mathbf{A}) &=\\sqrt{\\left(A_{1}-B_{1}\\right)^{2}+\\left(A_{2}-B_{2}\\right)^{2}+\\cdots+\\left(A_{n}-B_{n}\\right)^{2}} \\\\ &=\\sqrt{\\sum_{i=1}^{n}\\left(A_{i}-B_{i}\\right)^{2}} \\end{aligned}$$\n",
    "\n",
    "* $A$ en $B$ zijn (opnieuw) twee (woord)vectoren.\n",
    "* $n$ is het aantal elementen in de vector.\n",
    "* Hoe meer de twee woorden op elkaar lijken, hoe meer deze afstand gelijk is aan nul (0).\n"
   ]
  },
  {
   "cell_type": "code",
   "execution_count": 8,
   "metadata": {},
   "outputs": [],
   "source": [
    "def euclidean(A, B):\n",
    "    \"\"\"\n",
    "    Input:\n",
    "        A: een woordvector als numpy array\n",
    "        B: een woordvector als numpy array\n",
    "    Output:\n",
    "        d: numerieke waarde van de euclidische afstand tussen A en B\n",
    "    \"\"\"\n",
    "\n",
    "    # YOUR CODE HERE (vervang None door de juiste waarden)\n",
    "\n",
    "    d = np.linalg.norm(A-B)\n",
    "    \n",
    "    return d\n"
   ]
  },
  {
   "cell_type": "code",
   "execution_count": 9,
   "metadata": {},
   "outputs": [
    {
     "name": "stdout",
     "output_type": "stream",
     "text": [
      "euclidean(king, queen): 2.4796924591064453\n",
      "zou ongeveer 2.48 moeten zijn\n"
     ]
    }
   ],
   "source": [
    "print (f'euclidean(king, queen): {euclidean(king, queen)}')\n",
    "print ('zou ongeveer 2.48 moeten zijn')"
   ]
  },
  {
   "cell_type": "markdown",
   "metadata": {},
   "source": [
    "## stap 1.3: zoeken van het land op basis van de hoofdstad\n",
    "\n",
    "Nu maken we de functie `get_countries` waarmee we de hoofdstad van een land kunnen bepalen op basis van de twee gegeven woorden, zoals in het begin van deze notebook is beschreven. \n",
    "\n",
    "```python\n",
    "get_country('Athens', 'Greece', 'Baghdad')\n",
    "# Retourneert 'Iraq'\n",
    "```\n",
    "\n",
    "1. Denk terug aan het voorbeeld hierboven: `King - Man + Woman = Queen`. Implementeer dit idee in de cel hieronder, waarbij je de functies gebruikt die we in de vorige twee stappen hebben gezet.\n",
    "\n",
    "2. Bepaal de cosinussimulariteit tussen de gegeven woorden en elk woord in de dictionary.\n",
    "\n",
    "3. Retourneer een dictionary van vijf woorden uit de embedding met de hoogste similariteit, gesorteerd op similariteitsscore, samen met hun similariteitsscore.\n",
    "\n",
    "__LET OP__ dat je niet een woord teruggeeft dat al gegeven was."
   ]
  },
  {
   "cell_type": "code",
   "execution_count": 10,
   "metadata": {},
   "outputs": [],
   "source": [
    "def get_countries(city1, country1, city2, embeddings):\n",
    "    \"\"\"\n",
    "    Input:\n",
    "        city1: string met de hoofdstad van een land\n",
    "        country1: string met dat land \n",
    "        city2: string met een hoofdstad\n",
    "        embeddings: dictionary met als keys de woorden en als values hun embeddings\n",
    "    Output:\n",
    "        countries: dictionary met de vijf meest gelijkende landen en hun similariteitsscore\n",
    "    \"\"\"\n",
    "    countries = {}\n",
    "\n",
    "    vec =  embeddings[country1] - embeddings[city1] + embeddings[city2]\n",
    "    \n",
    "    for key, value in embeddings.items():\n",
    "        if key not in [city1, country1, city2]:\n",
    "            countries[key] = cosine_similarity(vec, value)\n",
    "\n",
    "    countries = dict(sorted(countries.items(), key=lambda x:x[1], reverse=True)[:5])\n",
    "\n",
    "    return countries"
   ]
  },
  {
   "cell_type": "code",
   "execution_count": 11,
   "metadata": {},
   "outputs": [
    {
     "name": "stdout",
     "output_type": "stream",
     "text": [
      "Woord met de hoogste waarde: Egypt (0.7626820802688599\n",
      "(Egypt met als waarde ongeveer 0.763\n"
     ]
    }
   ],
   "source": [
    "vals = get_countries('Athens', 'Greece', 'Cairo', word_embeddings)\n",
    "if len(vals) > 0:\n",
    "    hoogste_woord = list(vals.keys())[0]\n",
    "    hoogste_waarde = list(vals.values())[0]\n",
    "    print (f'Woord met de hoogste waarde: {hoogste_woord} ({hoogste_waarde}')\n",
    "    print ('(Egypt met als waarde ongeveer 0.763')"
   ]
  },
  {
   "cell_type": "markdown",
   "metadata": {},
   "source": [
    "### stap 1.4 accuratesse\n",
    "\n",
    "Bepaal nu de accuratesse van het model op basis van de gegeven dataset:\n",
    "\n",
    "$$\n",
    "acc = \\frac{n_{corr}}{n_{tot}}\n",
    "$$\n",
    "\n",
    "waarbij $n_{corr}$ het aantal *correcte* voorspellingen is en $n_{tot}$ het *totaal* aantal voorspellingen is. Je moet over elke regel van de dataset lopen en het woord in de methode `get_country` stoppen.\n",
    "\n",
    "__Tip :__ Je kunt gebruik maken van [`pandas.DataFrame.iterrows`](https://pandas.pydata.org/pandas-docs/stable/reference/api/pandas.DataFrame.iterrows.html)."
   ]
  },
  {
   "cell_type": "code",
   "execution_count": null,
   "metadata": {},
   "outputs": [],
   "source": [
    "def get_accuracy(word_embeddings, data):\n",
    "    '''\n",
    "    Input:\n",
    "        word_embeddings: dictionary met als keys de woorden en als values hun embeddings\n",
    "        data: pandas dataframe met land-hoofdstad paren\n",
    "    \n",
    "    Output:\n",
    "        accuracy: accuratesse van het model\n",
    "    '''\n",
    "\n",
    "    accuracy = 0\n",
    "\n",
    "    # YOUR CODE HERE\n",
    "    ncorr = 0\n",
    "    ntot = len(data)\n",
    "    for _, row in data.iterrows():\n",
    "        vals = get_countries(row[\"city1\"], row[\"country1\"], row[\"city2\"], word_embeddings)\n",
    "        if(list(vals.keys())[0] == row[\"country2\"]):\n",
    "            ncorr += 1\n",
    "\n",
    "    accuracy = ncorr/ntot\n",
    "    \n",
    "    return accuracy\n"
   ]
  },
  {
   "cell_type": "markdown",
   "metadata": {},
   "source": [
    "Bepaal nu de accuratesse van het model, door onderstaande cel te runnen. __Let op :__ dat kan wel enige tientallen seconden duren."
   ]
  },
  {
   "cell_type": "code",
   "execution_count": 13,
   "metadata": {},
   "outputs": [
    {
     "name": "stdout",
     "output_type": "stream",
     "text": [
      "Accuratesse is 0.92\n",
      "zou zo ongeveer 0.92 moeten zijn\n"
     ]
    }
   ],
   "source": [
    "accuracy = get_accuracy(word_embeddings, data)\n",
    "print (f\"Accuratesse is {accuracy:.2f}\")\n",
    "print ('zou zo ongeveer 0.92 moeten zijn')"
   ]
  },
  {
   "cell_type": "markdown",
   "metadata": {},
   "source": [
    "# Stap 2: plotten van de vectoren met behulp van PCA\n",
    "\n",
    "We gaan nu de dimensionaliteit van de vectoren reduceren en de afstand tussen de vectoren bekijken. We maken hiervoor gebruik van [*Hoofdcomponentenanalyse*](https://nl.wikipedia.org/wiki/Hoofdcomponentenanalyse) ([*Principle Component Analysis*](https://en.wikipedia.org/wiki/Principal_component_analysis)). \n",
    "\n",
    "Zoals je hebt gezien werken we met een driehonderd-dimensionale vectorruimte. Hoewel de computers hier wel mee om kunnen gaan, is het lastig om hier een plaatje van de creëren. Om dit toch kunnen doen moeten we het aantal dimensies reduceren (de zogenaamde *dimensionaliteitsreductie*, of in het Engels: *dimensionality reduction*). Eén van de meest gebruikte technieken hiervoor is PCA (hoewel dat eigenlijk geen reductie- maar een *transformatie*techniek is).\n",
    "\n",
    "Zoals tijdens het hoorcollege is toegelicht, projecteert PCA de vectoren op een ander assenstelsel waarmee de maximale informatie uit de originele vectoren wordt behouden. In dit specifieke geval zijn we op zoek naar die vectoren waarvan de euclidische afstand tot de oorspronkelijke vectoren *minimaal* is.\n",
    "\n",
    "Vectoren die in de oorspronkelijke dataset vlak bij elkaar zitten, zullen dan ook in de gereduceerde dimensionaliteit dicht bij elkaar zitten. De vectoren voor bijvoorbeeld de woorden 'sad', 'happy', 'joyful' beschrijven allemaal bepaalde gevoelens en zullen vlak bij elkaar zitten. \n",
    "\n",
    "Omdat we de boel als een 2D-plaatje willen weergeven, moeten we alle woordvectoren eerst met behulp van PCA reduceren tot een twee-dimensionale vector reduceren. "
   ]
  },
  {
   "cell_type": "markdown",
   "metadata": {},
   "source": [
    "Hieronder staat een stappenplan:\n",
    "\n",
    "1. Normaliseer de data (maak gebruik van [`numpy.mean`](https://docs.scipy.org/doc/numpy/reference/generated/numpy.mean.html).\n",
    "2. Bereken de covariantiematrix $\\Sigma$ (maak gebruik van [`numpy.cov`](https://docs.scipy.org/doc/numpy/reference/generated/numpy.cov.html).\n",
    "3. Bereken de eigenvectors en eigenvalues van $\\Sigma$ (maak gebruik van [`numpy.linalg.eigh`](https://numpy.org/doc/stable/reference/generated/numpy.linalg.eigh.html).\n",
    "4. Sorteer deze eigenvectors en eigenvalues van hoog naar laag op eigenvalues (check [`numpy.argsort`](https://docs.scipy.org/doc/numpy/reference/generated/numpy.argsort.html).\n",
    "5. Maak een subset van deze gesorteerde eigenvectors (gebruik de parameter `n_components`)\n",
    "6. Vermenigvuldig deze subset van eigenvectors met de oorspronkelijke data\n",
    "7. Retourneer deze vermenigvuldiging; als het goed is, is de `shape` van deze geretourneerde matrix `(m, n_components)`.\n",
    "\n",
    "Het plaatje hieronder geeft het proces grafisch weer.\n",
    "\n",
    "![Het resultaat van deze oefening](imgs/word_embf.jpeg)\n"
   ]
  },
  {
   "cell_type": "code",
   "execution_count": null,
   "metadata": {},
   "outputs": [],
   "source": [
    "def compute_pca(X, n_components=2):\n",
    "    \"\"\"\n",
    "    Input:\n",
    "        X: een matrix van (m,n) waarbij elke regel een woordvector bevat\n",
    "        n_components: het aantal componenten dat teruggegeven moet worden\n",
    "    Output:\n",
    "        X_reduced: de data getransformeerd tot 2 dims/columns + geregenereerde originele data\n",
    "    \"\"\"\n",
    "\n",
    "    X_reduced = None\n",
    "\n",
    "    # normaliseer de data\n",
    "    standardized_data = (X - X.mean(axis = 0)) / X.std(axis = 0)\n",
    "\n",
    "    # coveriance matrix berekenen\n",
    "    covariance_matrix = np.cov(standardized_data, ddof = 1, rowvar = False)\n",
    "\n",
    "    # eigenvalues en eigenvectors berekenen\n",
    "    e_val, e_vec = np.linalg.eig(covariance_matrix)\n",
    "\n",
    "    # bereken sorteer orde voor het sorteren van eigenvalues en eigenvectors op basis van de eigenvalues\n",
    "    sort_order = np.argsort(e_val)[::-1] \n",
    "\n",
    "    # sorteer eigenvalues en eigenvectors met de sorteer orde\n",
    "    sorted_val = e_val[sort_order]\n",
    "    sorted_vec = e_vec[:,sort_order] \n",
    "    \n",
    "    # maak subset van de gesorteerde eigenvectors\n",
    "    subset = sorted_vec[:,:n_components]\n",
    "\n",
    "    # Vermenigvuldig subset met de oorspronkelijke data (genormaliseerd)\n",
    "    X_reduced = np.matmul(standardized_data, subset)\n",
    "    \n",
    "    return X_reduced\n"
   ]
  },
  {
   "cell_type": "code",
   "execution_count": 18,
   "metadata": {},
   "outputs": [
    {
     "name": "stdout",
     "output_type": "stream",
     "text": [
      "Orignele matrix was (3, 10)\n",
      "Nieuwe matrix is (3, 2) \n",
      "Output van de functie `compute_pca`:\n",
      "[[-1.80913582+0.j -2.31550476+0.j]\n",
      " [-1.76788619+0.j  2.3333748 +0.j]\n",
      " [ 3.577022  +0.j -0.01787004+0.j]]\n"
     ]
    }
   ],
   "source": [
    "# Testing testing one, two, three\n",
    "np.random.seed(1)\n",
    "X = np.random.rand(3, 10)\n",
    "X_reduced = compute_pca(X, n_components=2)\n",
    "print(f\"Orignele matrix was {X.shape}\")\n",
    "print(f\"Nieuwe matrix is {X_reduced.shape} \")\n",
    "print (\"Output van de functie `compute_pca`:\")\n",
    "print(X_reduced)"
   ]
  },
  {
   "cell_type": "markdown",
   "metadata": {},
   "source": [
    "In de cel hieronder gebruiken we de functie `compute_pca` om een plot te maken van een aantal woorden. Je kunt deze cel eenvoudig runnen. Wat valt je op aan het resultaat?"
   ]
  },
  {
   "cell_type": "code",
   "execution_count": 16,
   "metadata": {},
   "outputs": [
    {
     "name": "stderr",
     "output_type": "stream",
     "text": [
      "c:\\Users\\Kyra\\Documents\\HBO_ICT\\JAAR_4\\KMO2 (ML)\\MachineLearning\\ml\\lib\\site-packages\\matplotlib\\collections.py:192: ComplexWarning: Casting complex values to real discards the imaginary part\n",
      "  offsets = np.asanyarray(offsets, float)\n",
      "c:\\Users\\Kyra\\Documents\\HBO_ICT\\JAAR_4\\KMO2 (ML)\\MachineLearning\\ml\\lib\\site-packages\\matplotlib\\text.py:1475: ComplexWarning: Casting complex values to real discards the imaginary part\n",
      "  x = float(self.convert_xunits(x))\n",
      "c:\\Users\\Kyra\\Documents\\HBO_ICT\\JAAR_4\\KMO2 (ML)\\MachineLearning\\ml\\lib\\site-packages\\matplotlib\\text.py:1477: ComplexWarning: Casting complex values to real discards the imaginary part\n",
      "  y = float(self.convert_yunits(y))\n",
      "c:\\Users\\Kyra\\Documents\\HBO_ICT\\JAAR_4\\KMO2 (ML)\\MachineLearning\\ml\\lib\\site-packages\\matplotlib\\text.py:757: ComplexWarning: Casting complex values to real discards the imaginary part\n",
      "  posx = float(self.convert_xunits(self._x))\n",
      "c:\\Users\\Kyra\\Documents\\HBO_ICT\\JAAR_4\\KMO2 (ML)\\MachineLearning\\ml\\lib\\site-packages\\matplotlib\\text.py:758: ComplexWarning: Casting complex values to real discards the imaginary part\n",
      "  posy = float(self.convert_yunits(self._y))\n",
      "c:\\Users\\Kyra\\Documents\\HBO_ICT\\JAAR_4\\KMO2 (ML)\\MachineLearning\\ml\\lib\\site-packages\\matplotlib\\text.py:897: ComplexWarning: Casting complex values to real discards the imaginary part\n",
      "  x = float(self.convert_xunits(self._x))\n",
      "c:\\Users\\Kyra\\Documents\\HBO_ICT\\JAAR_4\\KMO2 (ML)\\MachineLearning\\ml\\lib\\site-packages\\matplotlib\\text.py:898: ComplexWarning: Casting complex values to real discards the imaginary part\n",
      "  y = float(self.convert_yunits(self._y))\n"
     ]
    },
    {
     "data": {
      "image/png": "[encoded data removed]",
      "text/plain": [
       "<Figure size 640x480 with 1 Axes>"
      ]
     },
     "metadata": {},
     "output_type": "display_data"
    }
   ],
   "source": [
    "words = ['oil', 'gas', 'happy', 'sad', 'city', 'town',\n",
    "         'village', 'country', 'continent', 'petroleum', 'joyful']\n",
    "\n",
    "X = get_vectors(word_embeddings, words)\n",
    "result = compute_pca(X, 2)\n",
    "plt.scatter(result[:, 0], result[:, 1])\n",
    "for i, word in enumerate(words):\n",
    "    plt.annotate(word, xy=(result[i, 0] - 0.05, result[i, 1] + 0.1))\n",
    "\n",
    "plt.show()\n"
   ]
  }
 ],
 "metadata": {
  "anaconda-cloud": {},
  "coursera": {
   "schema_names": [
    "NLPC1-3"
   ]
  },
  "kernelspec": {
   "display_name": "ml",
   "language": "python",
   "name": "python3"
  },
  "language_info": {
   "codemirror_mode": {
    "name": "ipython",
    "version": 3
   },
   "file_extension": ".py",
   "mimetype": "text/x-python",
   "name": "python",
   "nbconvert_exporter": "python",
   "pygments_lexer": "ipython3",
   "version": "3.8.3"
  }
 },
 "nbformat": 4,
 "nbformat_minor": 4
}
